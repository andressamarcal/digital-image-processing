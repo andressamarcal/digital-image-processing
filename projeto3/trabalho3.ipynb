{
 "cells": [
  {
   "cell_type": "markdown",
   "metadata": {},
   "source": [
    "## Importação das bibliotecas"
   ]
  },
  {
   "cell_type": "code",
   "execution_count": 40,
   "metadata": {},
   "outputs": [],
   "source": [
    "import matplotlib.pyplot as plt\n",
    "import numpy as np\n",
    "import cv2"
   ]
  },
  {
   "cell_type": "markdown",
   "metadata": {},
   "source": [
    "## Transformacao de Cores"
   ]
  },
  {
   "cell_type": "code",
   "execution_count": 90,
   "metadata": {},
   "outputs": [
    {
     "data": {
      "image/png": "[encoded data removed]",
      "text/plain": [
       "<Figure size 432x288 with 1 Axes>"
      ]
     },
     "metadata": {
      "needs_background": "light"
     },
     "output_type": "display_data"
    }
   ],
   "source": [
    "# Le a imagem de entrada\n",
    "image = cv2.imread(\"objetos4.png\")\n",
    "\n",
    "# Usa a funçao cvtColor para transformar a imagem BGR em escala de cinza\n",
    "gray_image = cv2.cvtColor(image, cv2.COLOR_BGR2GRAY)\n",
    "\n",
    "# Salva a imagem\n",
    "cv2.imwrite(\"gray_object_4.png\",gray_image)\n",
    "\n",
    "plt.imshow(gray_image, cmap=plt.cm.gray)\n",
    "plt.title('Imagem Monocromatica')\n",
    "plt.show()"
   ]
  },
  {
   "cell_type": "markdown",
   "metadata": {},
   "source": [
    "## Contornos dos Objetos"
   ]
  },
  {
   "cell_type": "code",
   "execution_count": 91,
   "metadata": {},
   "outputs": [
    {
     "data": {
      "image/png": "[encoded data removed]",
      "text/plain": [
       "<Figure size 432x288 with 1 Axes>"
      ]
     },
     "metadata": {
      "needs_background": "light"
     },
     "output_type": "display_data"
    }
   ],
   "source": [
    "# Mascara 1\n",
    "mask = [[0,-1,0],[-1,4,-1],[0,-1,0]]\n",
    "\n",
    "# Mascara 2\n",
    "mask2 = [[-1,-1,-1],[-1,8,-1],[-1,-1,-1]]\n",
    "\n",
    "# Filter2D realiza uma convoluçao entre a imagem em escalas de cinza\n",
    "# e a mascara definida anteriormente\n",
    "image_contour = cv2.filter2D(gray_image,-1,np.array(mask))\n",
    "\n",
    "# Salva a imagem\n",
    "cv2.imwrite(\"contours_object_4.png\",255 - image_contour)\n",
    "\n",
    "# Calcula-se o negativo da imagem de entrada para obter uma nova imagem com fundo\n",
    "# Branco e bordas pretas\n",
    "plt.imshow(255 - image_contour, cmap=plt.cm.gray)\n",
    "plt.title('Contornos dos Objetos')\n",
    "plt.show()\n"
   ]
  },
  {
   "cell_type": "markdown",
   "metadata": {},
   "source": [
    "## Calculo da área, perimetro e quantidade de objetos"
   ]
  },
  {
   "cell_type": "code",
   "execution_count": 92,
   "metadata": {},
   "outputs": [
    {
     "name": "stdout",
     "output_type": "stream",
     "text": [
      "Numero de regioes:  9\n",
      "\n",
      " regiao: 8 perimetro: 101.982754945755 area: 716.5\n",
      " regiao: 7 perimetro: 311.0782079696655 area: 4067.0\n",
      " regiao: 6 perimetro: 108.66904711723328 area: 688.5\n",
      " regiao: 5 perimetro: 179.78174459934235 area: 1761.5\n",
      " regiao: 4 perimetro: 94.42640566825867 area: 478.0\n",
      " regiao: 3 perimetro: 104.91168713569641 area: 584.0\n",
      " regiao: 2 perimetro: 265.1198377609253 area: 3690.5\n",
      " regiao: 1 perimetro: 125.63960921764374 area: 843.5\n",
      " regiao: 0 perimetro: 319.4213538169861 area: 4107.0\n"
     ]
    },
    {
     "data": {
      "image/png": "[encoded data removed]",
      "text/plain": [
       "<Figure size 432x288 with 1 Axes>"
      ]
     },
     "metadata": {
      "needs_background": "light"
     },
     "output_type": "display_data"
    }
   ],
   "source": [
    "# Se faz uso da funçao findContours para encontrar os contornos dos objetos contidos\n",
    "# na imagem filtrada\n",
    "images, cnts, h = cv2.findContours(image_contour.copy(),cv2.RETR_EXTERNAL, cv2.CHAIN_APPROX_SIMPLE)\n",
    "\n",
    "# Copia a imagem original e salva em uma nova variavel\n",
    "image_object = image.copy()\n",
    "i = len(cnts)-1\n",
    "\n",
    "# Para cada contorno de cada objeto encontrado na imagem de entrada (c)\n",
    "# se calcula seu perimetro, area e  o centroide\n",
    "print (\"Numero de regioes: \",len(cnts))\n",
    "print (\"\")\n",
    "\n",
    "for c in cnts:\n",
    "    \n",
    "    # Area\n",
    "    # Para obter a area aproximada da regiao do objeto usa-se a funçao contourArea\n",
    "    # Esta funçao calcula a area do contorno do regiao do objeto\n",
    "    area = cv2.contourArea(c)\n",
    "    \n",
    "    # Perimetro\n",
    "    # Calcula o perimetro ou tamanho do arco da regiao do objeto encontrado na imagem\n",
    "    perimetro = cv2.arcLength(c,True)\n",
    "    \n",
    "    # Centroide\n",
    "    # Para obter o centroide se calcula os momentos de terceiro ordem\n",
    "    # usando a funçao cv2.moments\n",
    "    M = cv2.moments(c)\n",
    "    cx = int(M['m10']/M['m00']) #se divide o terceiro momento entre o primeiro momento para obter o centroide do objeto no direçao no eixo x\n",
    "    cy = int(M['m01']/M['m00']) #se divide o segundo momento entre o primeiro momento para obter o centroide do objeto no direçao no eixo y\n",
    "    \n",
    "    # Se mostra cada regiao rotulada individualmente na imagem\n",
    "    cv2.putText(image_object,str(i),(cx,cy), cv2.FONT_HERSHEY_PLAIN, 1.3,(0,0,0),2)\n",
    "    \n",
    "    # Imprime-se a informaçao do perimetro e area da regiao de cada objeto\n",
    "    print(\" regiao: \"+(str(i))+\" perimetro: \"+str(perimetro)+\" area: \"+str(area))\n",
    "    i = i-1\n",
    "    \n",
    "# Salva a imagem \n",
    "cv2.imwrite(\"count_object_4.png\",image_object)\n",
    "plt.imshow(image_object, cmap=plt.cm.gray)\n",
    "plt.show() "
   ]
  },
  {
   "cell_type": "markdown",
   "metadata": {},
   "source": [
    "## Calculo de numero de regiões pequenas, medias e grandes"
   ]
  },
  {
   "cell_type": "code",
   "execution_count": 93,
   "metadata": {},
   "outputs": [
    {
     "name": "stdout",
     "output_type": "stream",
     "text": [
      "numero de regioes pequenas: 5\n",
      "numero de regioes medias: 1\n",
      "numero de regioes grandes: 3\n"
     ]
    }
   ],
   "source": [
    "# Usa a funçao findContours para encontrar os contornos da regiao dos objetos contidos\n",
    "# na imagem filtrada\n",
    "images, cnts, h = cv2.findContours(image_contour.copy(),cv2.RETR_EXTERNAL, cv2.CHAIN_APPROX_SIMPLE)\n",
    "\n",
    "# Para cada contorno de cada objeto encontrado na imagem de entrada (c)\n",
    "# calcula a area, se o calculo é menor a 1500 é uma regiao pequena, maior a 1500 e menor a 3000\n",
    "# ou maior a 3000 é uma regiao media, e se é maior a 3000 é uma grande regiao\n",
    "areas = np.array([cv2.contourArea(c) for c in cnts])           \n",
    "pequeno = len(np.where(areas < 1500)[0])\n",
    "medio = len(np.where( (1500 < areas) & (areas < 3000))[0])\n",
    "grande = len(np.where(areas > 3000)[0])\n",
    "\n",
    "# Imprime o numero de regioes por tamanho\n",
    "print (\"numero de regioes pequenas:\",str(pequeno))\n",
    "print (\"numero de regioes medias:\",str(medio))\n",
    "print (\"numero de regioes grandes:\",str(grande))"
   ]
  },
  {
   "cell_type": "markdown",
   "metadata": {},
   "source": [
    "## Histograma do Objeto"
   ]
  },
  {
   "cell_type": "code",
   "execution_count": 95,
   "metadata": {},
   "outputs": [
    {
     "data": {
      "image/png": "[encoded data removed]",
      "text/plain": [
       "<Figure size 432x288 with 1 Axes>"
      ]
     },
     "metadata": {
      "needs_background": "light"
     },
     "output_type": "display_data"
    }
   ],
   "source": [
    "# É definido o range das areas declaradas anteriormente\n",
    "n_object = range(0,3500,1500)\n",
    "\n",
    "# Se guarda o numero de regioes em um vetor\n",
    "n_area = [pequeno,medio,grande]\n",
    "\n",
    "# A variavel regiao o numero de objetos encontrados por numero de regioes por tamanho de area\n",
    "regiao = np.arange(len(n_area))\n",
    "\n",
    "# Se representa  em uma barra o numero de objetos por area\n",
    "plt.bar(regiao, n_area)\n",
    "plt.xlabel('Area')\n",
    "plt.ylabel('Nº de Objetos')\n",
    "plt.xticks(regiao, n_object)\n",
    "plt.title('Histograma das áreas dos objetos')\n",
    "plt.show()"
   ]
  },
  {
   "cell_type": "code",
   "execution_count": null,
   "metadata": {},
   "outputs": [],
   "source": []
  }
 ],
 "metadata": {
  "kernelspec": {
   "display_name": "Python 3",
   "language": "python",
   "name": "python3"
  },
  "language_info": {
   "codemirror_mode": {
    "name": "ipython",
    "version": 3
   },
   "file_extension": ".py",
   "mimetype": "text/x-python",
   "name": "python",
   "nbconvert_exporter": "python",
   "pygments_lexer": "ipython3",
   "version": "3.7.4"
  }
 },
 "nbformat": 4,
 "nbformat_minor": 4
}
